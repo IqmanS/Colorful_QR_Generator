{
  "nbformat": 4,
  "nbformat_minor": 0,
  "metadata": {
    "colab": {
      "provenance": [],
      "authorship_tag": "ABX9TyNLZGt7hVJMh2FSSS5Zpckt",
      "include_colab_link": true
    },
    "kernelspec": {
      "name": "python3",
      "display_name": "Python 3"
    },
    "language_info": {
      "name": "python"
    }
  },
  "cells": [
    {
      "cell_type": "markdown",
      "metadata": {
        "id": "view-in-github",
        "colab_type": "text"
      },
      "source": [
        "<a href=\"https://colab.research.google.com/github/IqmanS/Colorful_QR_Generator/blob/main/Colorful_QR_Code_Generator.ipynb\" target=\"_parent\"><img src=\"https://colab.research.google.com/assets/colab-badge.svg\" alt=\"Open In Colab\"/></a>"
      ]
    },
    {
      "cell_type": "code",
      "execution_count": 59,
      "metadata": {
        "colab": {
          "base_uri": "https://localhost:8080/"
        },
        "id": "n9ebUXP2CCDE",
        "outputId": "fbf3b1ed-b7fa-4bb1-d7e9-22a375491f60"
      },
      "outputs": [
        {
          "output_type": "stream",
          "name": "stdout",
          "text": [
            "Looking in indexes: https://pypi.org/simple, https://us-python.pkg.dev/colab-wheels/public/simple/\n",
            "Requirement already satisfied: qrcode in /usr/local/lib/python3.10/dist-packages (7.4.2)\n",
            "Requirement already satisfied: typing-extensions in /usr/local/lib/python3.10/dist-packages (from qrcode) (4.5.0)\n",
            "Requirement already satisfied: pypng in /usr/local/lib/python3.10/dist-packages (from qrcode) (0.20220715.0)\n",
            "Looking in indexes: https://pypi.org/simple, https://us-python.pkg.dev/colab-wheels/public/simple/\n",
            "Requirement already satisfied: pillow in /usr/local/lib/python3.10/dist-packages (8.4.0)\n"
          ]
        }
      ],
      "source": [
        "!pip install qrcode\n",
        "!pip install pillow"
      ]
    },
    {
      "cell_type": "code",
      "source": [
        "import qrcode\n",
        "from PIL import Image\n",
        "\n",
        "# ERROR_CORRECT_L : About 7% or less errors can be corrected.\n",
        "# ERROR_CORRECT_M : About 15% or less errors can be corrected.\n",
        "# ERROR_CORRECT_Q : About 25% or less errors can be corrected.\n",
        "# ERROR_CORRECT_H : About 30% or less errors can be corrected.\n",
        "\n",
        "level = {\n",
        "    1: qrcode.constants.ERROR_CORRECT_L,\n",
        "    2: qrcode.constants.ERROR_CORRECT_M,\n",
        "    3: qrcode.constants.ERROR_CORRECT_Q,\n",
        "    4: qrcode.constants.ERROR_CORRECT_H,\n",
        "    }\n"
      ],
      "metadata": {
        "id": "gtegU9cNCyf1"
      },
      "execution_count": 60,
      "outputs": []
    },
    {
      "cell_type": "code",
      "source": [
        "qr = qrcode.QRCode(\n",
        "    version=1,\n",
        "    error_correction=level[4],\n",
        "    box_size=10,\n",
        "    border=2,\n",
        ")\n",
        "qr.add_data('https://iqmansingh.netlify.app/')\n",
        "qr.make(fit=True)"
      ],
      "metadata": {
        "id": "_tZWVm9yDnsU"
      },
      "execution_count": 61,
      "outputs": []
    },
    {
      "cell_type": "code",
      "source": [
        "fillColor = {\"Portfolio Palette\":(255,99,99),\"Neon\":(255, 231, 155),\"Blue\":(157, 178, 191)}\n",
        "backColor = {\"Portfolio Palette\":(1,1,1),\"Neon\":(54, 18, 139),\"Blue\":(25, 35, 77)}"
      ],
      "metadata": {
        "id": "eaFWDJ0NFGBr"
      },
      "execution_count": 62,
      "outputs": []
    },
    {
      "cell_type": "code",
      "source": [
        "img1 = qr.make_image(fill_color=fillColor[\"Portfolio Palette\"], back_color=backColor[\"Portfolio Palette\"])\n",
        "img1.show()"
      ],
      "metadata": {
        "colab": {
          "base_uri": "https://localhost:8080/",
          "height": 387
        },
        "id": "_-ozzy-kFB-r",
        "outputId": "69279a21-0e63-434c-b916-3968110c96f4"
      },
      "execution_count": 63,
      "outputs": [
        {
          "output_type": "display_data",
          "data": {
            "text/plain": [
              "<PIL.Image.Image image mode=RGB size=370x370 at 0x7F55A7379C30>"
            ],
            "image/png": "[encoded data removed]"
          },
          "metadata": {}
        }
      ]
    },
    {
      "cell_type": "code",
      "source": [
        "img2 = qr.make_image(fill_color=fillColor[\"Blue\"], back_color=backColor[\"Blue\"])\n",
        "img2.show()"
      ],
      "metadata": {
        "colab": {
          "base_uri": "https://localhost:8080/",
          "height": 387
        },
        "id": "T802H07-LjLt",
        "outputId": "6324d83b-4a79-41f8-f840-bf3c16ffdfa0"
      },
      "execution_count": 64,
      "outputs": [
        {
          "output_type": "display_data",
          "data": {
            "text/plain": [
              "<PIL.Image.Image image mode=RGB size=370x370 at 0x7F55A737A560>"
            ],
            "image/png": "[encoded data removed]"
          },
          "metadata": {}
        }
      ]
    },
    {
      "cell_type": "code",
      "source": [
        "img1.save(\"portfolioQR1.png\")\n",
        "img2.save(\"portfolioQR2.png\")"
      ],
      "metadata": {
        "id": "syG1B19nL5S5"
      },
      "execution_count": 65,
      "outputs": []
    }
  ]
}